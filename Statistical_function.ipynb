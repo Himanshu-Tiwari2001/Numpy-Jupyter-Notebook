{
 "cells": [
  {
   "cell_type": "code",
   "execution_count": 10,
   "id": "d2a46110-2259-4282-a83a-2a109a19001a",
   "metadata": {},
   "outputs": [
    {
     "name": "stdout",
     "output_type": "stream",
     "text": [
      "178.75\n",
      "180.0\n",
      "150\n",
      "31.79524335494226\n",
      "1010.9375\n"
     ]
    }
   ],
   "source": [
    "import numpy as np\n",
    "import statistics as stats\n",
    "baked_food=[200,150,150,130,220,220,170,190]\n",
    "\n",
    "a=np.array(baked_food)\n",
    "print(np.mean(baked_food)) #sum of all value/number of values\n",
    "print(np.median(baked_food))\n",
    "print(stats.mode(baked_food))\n",
    "print(np.std(baked_food))\n",
    "print(np.var(baked_food))\n"
   ]
  },
  {
   "cell_type": "code",
   "execution_count": 11,
   "id": "2e447b91-932c-42fd-bb0e-9a18ec151876",
   "metadata": {},
   "outputs": [
    {
     "name": "stdout",
     "output_type": "stream",
     "text": [
      "[[1.         0.99015454]\n",
      " [0.99015454 1.        ]]\n"
     ]
    }
   ],
   "source": [
    "tobaco_consuption=[30,50,10,30,50,40]\n",
    "death=[100,120,70,100,120,112]\n",
    "print(np.corrcoef([tobaco_consuption,death]))"
   ]
  },
  {
   "cell_type": "code",
   "execution_count": 12,
   "id": "de1cf667-1ccb-440b-952a-7b7260860691",
   "metadata": {},
   "outputs": [
    {
     "name": "stdout",
     "output_type": "stream",
     "text": [
      "[[ 1.         -0.66621445]\n",
      " [-0.66621445  1.        ]]\n"
     ]
    }
   ],
   "source": [
    "price=[300,100,350,150,200]\n",
    "sales=[10,20,7,17,3]\n",
    "print(np.corrcoef([price,sales]))"
   ]
  }
 ],
 "metadata": {
  "kernelspec": {
   "display_name": "Python 3 (ipykernel)",
   "language": "python",
   "name": "python3"
  },
  "language_info": {
   "codemirror_mode": {
    "name": "ipython",
    "version": 3
   },
   "file_extension": ".py",
   "mimetype": "text/x-python",
   "name": "python",
   "nbconvert_exporter": "python",
   "pygments_lexer": "ipython3",
   "version": "3.12.2"
  }
 },
 "nbformat": 4,
 "nbformat_minor": 5
}
