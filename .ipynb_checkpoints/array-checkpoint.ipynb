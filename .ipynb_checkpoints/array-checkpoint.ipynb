{
 "cells": [
  {
   "cell_type": "code",
   "execution_count": 12,
   "id": "e806d93d-f373-427d-afca-04009ee1ec5b",
   "metadata": {},
   "outputs": [
    {
     "name": "stdout",
     "output_type": "stream",
     "text": [
      "[ 1  2  3  8 10]\n"
     ]
    }
   ],
   "source": [
    "import numpy as np\n",
    "arr=np.array([1,2,3,8,10])\n",
    "print(arr)"
   ]
  },
  {
   "cell_type": "code",
   "execution_count": 41,
   "id": "5591cca3-f006-4555-8d48-c2fc12ae4971",
   "metadata": {},
   "outputs": [
    {
     "name": "stdout",
     "output_type": "stream",
     "text": [
      "[[ 1  9 40 50]\n",
      " [52  2 40 80]\n",
      " [ 2 33 89 20]]\n",
      "(3, 4)\n",
      "12\n",
      "3\n",
      "2\n",
      "<class 'numpy.ndarray'>\n",
      "int32\n"
     ]
    }
   ],
   "source": [
    "\n",
    "arr1=np.array([[1,9,40,50],[52,2,40,80],[2,33,89,20]])\n",
    "print(arr1)\n",
    "print(np.shape(arr1))\n",
    "print(np.size(arr1))\n",
    "print(len(arr1))\n",
    "print(np.ndim(arr1))\n",
    "print(type(arr1))\n",
    "print(arr.dtype)\n"
   ]
  },
  {
   "cell_type": "code",
   "execution_count": 47,
   "id": "78b5f088-c3f7-480c-8d04-05b613cf39af",
   "metadata": {},
   "outputs": [
    {
     "name": "stdout",
     "output_type": "stream",
     "text": [
      "[[ 1  9]\n",
      " [52  2]]\n",
      "----------------------------\n",
      "[[  2  19  80 100]\n",
      " [102  22  80 160]\n",
      " [ 22  66 178  40]]\n",
      "............................\n",
      "[[  2  19  80 100]\n",
      " [102  22  80 160]\n",
      " [ 22  66 178  40]]\n"
     ]
    }
   ],
   "source": [
    "arr1=np.array([[1,9,40,50],[52,2,40,80],[2,33,89,20]])\n",
    "arr2=np.array([[1,10,40,50],[50,20,40,80],[20,33,89,20]])\n",
    "print(arr1[0:2,0:2])\n",
    "print(\"----------------------------\")\n",
    "print(arr1+arr2)\n",
    "print(\"............................\")\n",
    "print(np.add(arr1,arr2))\n"
   ]
  },
  {
   "cell_type": "code",
   "execution_count": 52,
   "id": "3cc1d873-ac51-400e-80f0-d910a52cd664",
   "metadata": {},
   "outputs": [
    {
     "name": "stdout",
     "output_type": "stream",
     "text": [
      "[  9  16  25  36  64 100]\n",
      "............................\n",
      "[ 5.  8.  9. 15. 14.]\n"
     ]
    }
   ],
   "source": [
    "arr3=np.array([3,4,5,6,8,10])\n",
    "arr4=np.array([2])\n",
    "print(np.power(arr3,arr4))\n",
    "print(\"............................\")\n",
    "arr5=np.array([25,64,81,225,196])\n",
    "print(np.sqrt(arr5))\n",
    "\n"
   ]
  },
  {
   "cell_type": "code",
   "execution_count": 72,
   "id": "b835beee-022a-434b-bf66-c5caf7aba0f8",
   "metadata": {},
   "outputs": [
    {
     "name": "stdout",
     "output_type": "stream",
     "text": [
      " after concatenation the array become \n",
      " [[ 1  9 40 50]\n",
      " [52  2 40 80]\n",
      " [ 2 33 89 20]\n",
      " [ 1 10 40 50]\n",
      " [50 20 40 80]\n",
      " [20 33 89 20]]\n"
     ]
    }
   ],
   "source": [
    "arr1=np.array([[1,9,40,50],[52,2,40,80],[2,33,89,20]])\n",
    "arr2=np.array([[1,10,40,50],[50,20,40,80],[20,33,89,20]])\n",
    "\n",
    "print(\" after concatenation the array become \\n\",np.concatenate([arr1,arr2]))"
   ]
  },
  {
   "cell_type": "code",
   "execution_count": 58,
   "id": "b508e2ba-3e5d-4ef7-8fd9-989e8e1db729",
   "metadata": {},
   "outputs": [
    {
     "name": "stdout",
     "output_type": "stream",
     "text": [
      "[[ 1  9 40 50  1 10 40 50]\n",
      " [52  2 40 80 50 20 40 80]\n",
      " [ 2 33 89 20 20 33 89 20]]\n"
     ]
    }
   ],
   "source": [
    "print(np.concatenate([arr1,arr2],axis = 1))"
   ]
  },
  {
   "cell_type": "code",
   "execution_count": 59,
   "id": "63ffe9e6-d6d9-4a70-8dd2-d7707c1c2b15",
   "metadata": {},
   "outputs": [
    {
     "name": "stdout",
     "output_type": "stream",
     "text": [
      "[[ 1  9 40 50  1 10 40 50]\n",
      " [52  2 40 80 50 20 40 80]\n",
      " [ 2 33 89 20 20 33 89 20]]\n"
     ]
    }
   ],
   "source": [
    "print(np.hstack([arr1,arr2])) # horizontal concatenate"
   ]
  },
  {
   "cell_type": "code",
   "execution_count": 60,
   "id": "52931c14-5f13-43f3-b903-8910e03e57ef",
   "metadata": {},
   "outputs": [
    {
     "name": "stdout",
     "output_type": "stream",
     "text": [
      "[[ 1  9 40 50]\n",
      " [52  2 40 80]\n",
      " [ 2 33 89 20]\n",
      " [ 1 10 40 50]\n",
      " [50 20 40 80]\n",
      " [20 33 89 20]]\n"
     ]
    }
   ],
   "source": [
    "print(np.vstack([arr1,arr2])) # vertical concatenate"
   ]
  },
  {
   "cell_type": "code",
   "execution_count": 62,
   "id": "c96db9cc-41c2-4277-8376-5132899071a5",
   "metadata": {},
   "outputs": [
    {
     "name": "stdout",
     "output_type": "stream",
     "text": [
      "[ 5  7  9 40]\n"
     ]
    }
   ],
   "source": [
    "arr6=np.array([5,7,9,40]) \n",
    "print(np.sort(arr6))\n"
   ]
  },
  {
   "cell_type": "code",
   "execution_count": 67,
   "id": "54466272-3b50-441d-a9de-b8c753cf5f41",
   "metadata": {},
   "outputs": [
    {
     "name": "stdout",
     "output_type": "stream",
     "text": [
      "5\n"
     ]
    }
   ],
   "source": [
    "arr7=np.array([1,2,3,4,5])\n",
    "ss=np.searchsorted(arr,12)\n",
    "print(ss)\n"
   ]
  },
  {
   "cell_type": "code",
   "execution_count": 68,
   "id": "9a931390-0b3e-4d28-bb32-3914c331cd26",
   "metadata": {},
   "outputs": [
    {
     "name": "stdout",
     "output_type": "stream",
     "text": [
      "Input array :  [2, 3, 4, 5, 6]\n",
      "The number which we want to insert :  4\n",
      "Output indices to maintain sorted array :  2\n"
     ]
    }
   ],
   "source": [
    "in_arr = [2, 3, 4, 5, 6] \n",
    "print (\"Input array : \", in_arr) \n",
    "  \n",
    "# the number which we want to insert \n",
    "num = 4\n",
    "print(\"The number which we want to insert : \", num)  \n",
    "    \n",
    "out_ind = np.searchsorted(in_arr, num)  \n",
    "print (\"Output indices to maintain sorted array : \", out_ind) "
   ]
  },
  {
   "cell_type": "code",
   "execution_count": 69,
   "id": "412fd0a2-26a8-45f7-8b19-dfd8c8e0ba4c",
   "metadata": {},
   "outputs": [
    {
     "name": "stdout",
     "output_type": "stream",
     "text": [
      "Input array :  [2, 3, 4, 5, 6]\n",
      "The number which we want to insert :  4\n",
      "Output indices to maintain sorted array :  3\n"
     ]
    }
   ],
   "source": [
    "in_arr = [2, 3, 4, 5, 6] \n",
    "print (\"Input array : \", in_arr) \n",
    "  \n",
    "# the number which we want to insert \n",
    "num = 4\n",
    "print(\"The number which we want to insert : \", num)    \n",
    "  \n",
    "out_ind = np.searchsorted(in_arr, num, side ='right')  \n",
    "print (\"Output indices to maintain sorted array : \", out_ind) "
   ]
  }
 ],
 "metadata": {
  "kernelspec": {
   "display_name": "Python 3 (ipykernel)",
   "language": "python",
   "name": "python3"
  },
  "language_info": {
   "codemirror_mode": {
    "name": "ipython",
    "version": 3
   },
   "file_extension": ".py",
   "mimetype": "text/x-python",
   "name": "python",
   "nbconvert_exporter": "python",
   "pygments_lexer": "ipython3",
   "version": "3.12.2"
  }
 },
 "nbformat": 4,
 "nbformat_minor": 5
}
